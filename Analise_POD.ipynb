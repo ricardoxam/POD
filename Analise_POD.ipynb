{
  "nbformat": 4,
  "nbformat_minor": 0,
  "metadata": {
    "colab": {
      "provenance": [],
      "authorship_tag": "ABX9TyOrwvS0+JPFBvfS2aa967a0",
      "include_colab_link": true
    },
    "kernelspec": {
      "name": "python3",
      "display_name": "Python 3"
    },
    "language_info": {
      "name": "python"
    }
  },
  "cells": [
    {
      "cell_type": "markdown",
      "metadata": {
        "id": "view-in-github",
        "colab_type": "text"
      },
      "source": [
        "<a href=\"https://colab.research.google.com/github/ricardoxam/POD/blob/main/Analise_POD.ipynb\" target=\"_parent\"><img src=\"https://colab.research.google.com/assets/colab-badge.svg\" alt=\"Open In Colab\"/></a>"
      ]
    },
    {
      "cell_type": "markdown",
      "source": [
        "# Atividade de Analise de Dados"
      ],
      "metadata": {
        "id": "LHmgUv6qgW2F"
      }
    },
    {
      "cell_type": "markdown",
      "source": [
        "Adicionar algum texto relativo ao objeto de estudo."
      ],
      "metadata": {
        "id": "sDaIDbErgeiQ"
      }
    },
    {
      "cell_type": "code",
      "source": [
        "import pandas as pd\n",
        "import matplotlib.pyplot as plt\n",
        "import numpy as np\n",
        "import seaborn as sns\n",
        "\n",
        "%matplotlib inline"
      ],
      "metadata": {
        "id": "aSInYfJvgc4i"
      },
      "execution_count": 1,
      "outputs": []
    },
    {
      "cell_type": "code",
      "source": [
        "df = pd.read_csv(\"/content/EDA_Industrializados_202111.csv\",sep=';', encoding='latin1', engine='python', error_bad_lines=False)"
      ],
      "metadata": {
        "id": "rxJy4EV4hGgI",
        "colab": {
          "base_uri": "https://localhost:8080/"
        },
        "outputId": "5ad202f2-cab2-49a4-e85f-94203618e5c4"
      },
      "execution_count": 2,
      "outputs": [
        {
          "output_type": "stream",
          "name": "stderr",
          "text": [
            "<ipython-input-2-9a29e00b0a72>:1: FutureWarning: The error_bad_lines argument has been deprecated and will be removed in a future version. Use on_bad_lines in the future.\n",
            "\n",
            "\n",
            "  df = pd.read_csv(\"/content/EDA_Industrializados_202111.csv\",sep=';', encoding='latin1', engine='python', error_bad_lines=False)\n",
            "Skipping line 117985: unexpected end of data\n"
          ]
        }
      ]
    },
    {
      "cell_type": "markdown",
      "source": [
        "**Dicionário de Dados**\n",
        "\n",
        "* `Ano_Venda` - Ano que foi realizada a venda do medicamento\n",
        "* `Mes_Venda` - Mês que foi realizada a venda do medicamento\n",
        "* `UF_Venda` - Estado que foi realizado a venda\n",
        "* `Municipio_Venda` - Municipio que foi realizada a venda\n",
        "* `Principio_Ativo` - Principais Substâncias que compõe\n",
        "* `Descriçao_apresentacao` - Descrição da caixa do medicamento\n",
        "* `Qnt_Vendida` - Quantidade vendida\n",
        "* `Unidade_Medida` - Unidade utilizada para contabilização\n",
        "* `Conselho_Prescritor` - Conselho responsável pela prescrição\n",
        "* `UF_Conselho_Prescritor` - Estado do conselho responsavel\n",
        "* `Tipo_Receituario` - Númeração relativa ao tipo de receita médica.\n",
        "* `CID10` - Relativa a doença que será tratada\n",
        "* `Sexo` - Se feminino ou masculino\n",
        "* `Idade` - Valor da idade\n",
        "* `Unidade_Idade` - Não foi possivel identificar"
      ],
      "metadata": {
        "id": "KY_ejeejji9T"
      }
    },
    {
      "cell_type": "code",
      "source": [
        "# Apresentando as 5 primeiras entradas.\n",
        "df.head()"
      ],
      "metadata": {
        "colab": {
          "base_uri": "https://localhost:8080/",
          "height": 293
        },
        "id": "0iwKOv6lhnMu",
        "outputId": "f18559db-9759-40a8-a215-31edf191006c"
      },
      "execution_count": null,
      "outputs": [
        {
          "output_type": "execute_result",
          "data": {
            "text/plain": [
              "   ANO_VENDA  MES_VENDA UF_VENDA   MUNICIPIO_VENDA  \\\n",
              "0       2021         11       MT  TANGARÁ DA SERRA   \n",
              "1       2021         11       MT  TANGARÁ DA SERRA   \n",
              "2       2021         11       MT  TANGARÁ DA SERRA   \n",
              "3       2021         11       MT  TANGARÁ DA SERRA   \n",
              "4       2021         11       MT  TANGARÁ DA SERRA   \n",
              "\n",
              "                 PRINCIPIO_ATIVO  \\\n",
              "0  SULFAMETOXAZOL + TRIMETOPRIMA   \n",
              "1  SULFAMETOXAZOL + TRIMETOPRIMA   \n",
              "2  SULFAMETOXAZOL + TRIMETOPRIMA   \n",
              "3  SULFAMETOXAZOL + TRIMETOPRIMA   \n",
              "4  SULFAMETOXAZOL + TRIMETOPRIMA   \n",
              "\n",
              "                         DESCRICAO_APRESENTACAO  QTD_VENDIDA UNIDADE_MEDIDA  \\\n",
              "0  800 MG + 160 MG COM CT BL AL PLAS TRANS X 10            1          CAIXA   \n",
              "1  800 MG + 160 MG COM CT BL AL PLAS TRANS X 10            1          CAIXA   \n",
              "2  800 MG + 160 MG COM CT BL AL PLAS TRANS X 10            2          CAIXA   \n",
              "3  800 MG + 160 MG COM CT BL AL PLAS TRANS X 10            5          CAIXA   \n",
              "4  800 MG + 160 MG COM CT BL AL PLAS TRANS X 10            1          CAIXA   \n",
              "\n",
              "  CONSELHO_PRESCRITOR UF_CONSELHO_PRESCRITOR  TIPO_RECEITUARIO CID10  SEXO  \\\n",
              "0                 CRM                     MT               5.0   NaN   1.0   \n",
              "1                 CRM                     MT               5.0   NaN   1.0   \n",
              "2                 CRM                     MT               5.0   NaN   1.0   \n",
              "3                 CRM                     MT               5.0   NaN   2.0   \n",
              "4                 CRM                     MT               5.0   NaN   2.0   \n",
              "\n",
              "   IDADE  UNIDADE_IDADE  \n",
              "0   37.0            1.0  \n",
              "1   40.0            1.0  \n",
              "2   45.0            1.0  \n",
              "3   34.0            1.0  \n",
              "4   36.0            1.0  "
            ],
            "text/html": [
              "\n",
              "  <div id=\"df-e875e46f-e53f-4475-ba64-e64b358703ba\" class=\"colab-df-container\">\n",
              "    <div>\n",
              "<style scoped>\n",
              "    .dataframe tbody tr th:only-of-type {\n",
              "        vertical-align: middle;\n",
              "    }\n",
              "\n",
              "    .dataframe tbody tr th {\n",
              "        vertical-align: top;\n",
              "    }\n",
              "\n",
              "    .dataframe thead th {\n",
              "        text-align: right;\n",
              "    }\n",
              "</style>\n",
              "<table border=\"1\" class=\"dataframe\">\n",
              "  <thead>\n",
              "    <tr style=\"text-align: right;\">\n",
              "      <th></th>\n",
              "      <th>ANO_VENDA</th>\n",
              "      <th>MES_VENDA</th>\n",
              "      <th>UF_VENDA</th>\n",
              "      <th>MUNICIPIO_VENDA</th>\n",
              "      <th>PRINCIPIO_ATIVO</th>\n",
              "      <th>DESCRICAO_APRESENTACAO</th>\n",
              "      <th>QTD_VENDIDA</th>\n",
              "      <th>UNIDADE_MEDIDA</th>\n",
              "      <th>CONSELHO_PRESCRITOR</th>\n",
              "      <th>UF_CONSELHO_PRESCRITOR</th>\n",
              "      <th>TIPO_RECEITUARIO</th>\n",
              "      <th>CID10</th>\n",
              "      <th>SEXO</th>\n",
              "      <th>IDADE</th>\n",
              "      <th>UNIDADE_IDADE</th>\n",
              "    </tr>\n",
              "  </thead>\n",
              "  <tbody>\n",
              "    <tr>\n",
              "      <th>0</th>\n",
              "      <td>2021</td>\n",
              "      <td>11</td>\n",
              "      <td>MT</td>\n",
              "      <td>TANGARÁ DA SERRA</td>\n",
              "      <td>SULFAMETOXAZOL + TRIMETOPRIMA</td>\n",
              "      <td>800 MG + 160 MG COM CT BL AL PLAS TRANS X 10</td>\n",
              "      <td>1</td>\n",
              "      <td>CAIXA</td>\n",
              "      <td>CRM</td>\n",
              "      <td>MT</td>\n",
              "      <td>5.0</td>\n",
              "      <td>NaN</td>\n",
              "      <td>1.0</td>\n",
              "      <td>37.0</td>\n",
              "      <td>1.0</td>\n",
              "    </tr>\n",
              "    <tr>\n",
              "      <th>1</th>\n",
              "      <td>2021</td>\n",
              "      <td>11</td>\n",
              "      <td>MT</td>\n",
              "      <td>TANGARÁ DA SERRA</td>\n",
              "      <td>SULFAMETOXAZOL + TRIMETOPRIMA</td>\n",
              "      <td>800 MG + 160 MG COM CT BL AL PLAS TRANS X 10</td>\n",
              "      <td>1</td>\n",
              "      <td>CAIXA</td>\n",
              "      <td>CRM</td>\n",
              "      <td>MT</td>\n",
              "      <td>5.0</td>\n",
              "      <td>NaN</td>\n",
              "      <td>1.0</td>\n",
              "      <td>40.0</td>\n",
              "      <td>1.0</td>\n",
              "    </tr>\n",
              "    <tr>\n",
              "      <th>2</th>\n",
              "      <td>2021</td>\n",
              "      <td>11</td>\n",
              "      <td>MT</td>\n",
              "      <td>TANGARÁ DA SERRA</td>\n",
              "      <td>SULFAMETOXAZOL + TRIMETOPRIMA</td>\n",
              "      <td>800 MG + 160 MG COM CT BL AL PLAS TRANS X 10</td>\n",
              "      <td>2</td>\n",
              "      <td>CAIXA</td>\n",
              "      <td>CRM</td>\n",
              "      <td>MT</td>\n",
              "      <td>5.0</td>\n",
              "      <td>NaN</td>\n",
              "      <td>1.0</td>\n",
              "      <td>45.0</td>\n",
              "      <td>1.0</td>\n",
              "    </tr>\n",
              "    <tr>\n",
              "      <th>3</th>\n",
              "      <td>2021</td>\n",
              "      <td>11</td>\n",
              "      <td>MT</td>\n",
              "      <td>TANGARÁ DA SERRA</td>\n",
              "      <td>SULFAMETOXAZOL + TRIMETOPRIMA</td>\n",
              "      <td>800 MG + 160 MG COM CT BL AL PLAS TRANS X 10</td>\n",
              "      <td>5</td>\n",
              "      <td>CAIXA</td>\n",
              "      <td>CRM</td>\n",
              "      <td>MT</td>\n",
              "      <td>5.0</td>\n",
              "      <td>NaN</td>\n",
              "      <td>2.0</td>\n",
              "      <td>34.0</td>\n",
              "      <td>1.0</td>\n",
              "    </tr>\n",
              "    <tr>\n",
              "      <th>4</th>\n",
              "      <td>2021</td>\n",
              "      <td>11</td>\n",
              "      <td>MT</td>\n",
              "      <td>TANGARÁ DA SERRA</td>\n",
              "      <td>SULFAMETOXAZOL + TRIMETOPRIMA</td>\n",
              "      <td>800 MG + 160 MG COM CT BL AL PLAS TRANS X 10</td>\n",
              "      <td>1</td>\n",
              "      <td>CAIXA</td>\n",
              "      <td>CRM</td>\n",
              "      <td>MT</td>\n",
              "      <td>5.0</td>\n",
              "      <td>NaN</td>\n",
              "      <td>2.0</td>\n",
              "      <td>36.0</td>\n",
              "      <td>1.0</td>\n",
              "    </tr>\n",
              "  </tbody>\n",
              "</table>\n",
              "</div>\n",
              "    <div class=\"colab-df-buttons\">\n",
              "\n",
              "  <div class=\"colab-df-container\">\n",
              "    <button class=\"colab-df-convert\" onclick=\"convertToInteractive('df-e875e46f-e53f-4475-ba64-e64b358703ba')\"\n",
              "            title=\"Convert this dataframe to an interactive table.\"\n",
              "            style=\"display:none;\">\n",
              "\n",
              "  <svg xmlns=\"http://www.w3.org/2000/svg\" height=\"24px\" viewBox=\"0 -960 960 960\">\n",
              "    <path d=\"M120-120v-720h720v720H120Zm60-500h600v-160H180v160Zm220 220h160v-160H400v160Zm0 220h160v-160H400v160ZM180-400h160v-160H180v160Zm440 0h160v-160H620v160ZM180-180h160v-160H180v160Zm440 0h160v-160H620v160Z\"/>\n",
              "  </svg>\n",
              "    </button>\n",
              "\n",
              "  <style>\n",
              "    .colab-df-container {\n",
              "      display:flex;\n",
              "      gap: 12px;\n",
              "    }\n",
              "\n",
              "    .colab-df-convert {\n",
              "      background-color: #E8F0FE;\n",
              "      border: none;\n",
              "      border-radius: 50%;\n",
              "      cursor: pointer;\n",
              "      display: none;\n",
              "      fill: #1967D2;\n",
              "      height: 32px;\n",
              "      padding: 0 0 0 0;\n",
              "      width: 32px;\n",
              "    }\n",
              "\n",
              "    .colab-df-convert:hover {\n",
              "      background-color: #E2EBFA;\n",
              "      box-shadow: 0px 1px 2px rgba(60, 64, 67, 0.3), 0px 1px 3px 1px rgba(60, 64, 67, 0.15);\n",
              "      fill: #174EA6;\n",
              "    }\n",
              "\n",
              "    .colab-df-buttons div {\n",
              "      margin-bottom: 4px;\n",
              "    }\n",
              "\n",
              "    [theme=dark] .colab-df-convert {\n",
              "      background-color: #3B4455;\n",
              "      fill: #D2E3FC;\n",
              "    }\n",
              "\n",
              "    [theme=dark] .colab-df-convert:hover {\n",
              "      background-color: #434B5C;\n",
              "      box-shadow: 0px 1px 3px 1px rgba(0, 0, 0, 0.15);\n",
              "      filter: drop-shadow(0px 1px 2px rgba(0, 0, 0, 0.3));\n",
              "      fill: #FFFFFF;\n",
              "    }\n",
              "  </style>\n",
              "\n",
              "    <script>\n",
              "      const buttonEl =\n",
              "        document.querySelector('#df-e875e46f-e53f-4475-ba64-e64b358703ba button.colab-df-convert');\n",
              "      buttonEl.style.display =\n",
              "        google.colab.kernel.accessAllowed ? 'block' : 'none';\n",
              "\n",
              "      async function convertToInteractive(key) {\n",
              "        const element = document.querySelector('#df-e875e46f-e53f-4475-ba64-e64b358703ba');\n",
              "        const dataTable =\n",
              "          await google.colab.kernel.invokeFunction('convertToInteractive',\n",
              "                                                    [key], {});\n",
              "        if (!dataTable) return;\n",
              "\n",
              "        const docLinkHtml = 'Like what you see? Visit the ' +\n",
              "          '<a target=\"_blank\" href=https://colab.research.google.com/notebooks/data_table.ipynb>data table notebook</a>'\n",
              "          + ' to learn more about interactive tables.';\n",
              "        element.innerHTML = '';\n",
              "        dataTable['output_type'] = 'display_data';\n",
              "        await google.colab.output.renderOutput(dataTable, element);\n",
              "        const docLink = document.createElement('div');\n",
              "        docLink.innerHTML = docLinkHtml;\n",
              "        element.appendChild(docLink);\n",
              "      }\n",
              "    </script>\n",
              "  </div>\n",
              "\n",
              "\n",
              "<div id=\"df-ed0d9af1-9616-4bb7-9867-7340597c7ead\">\n",
              "  <button class=\"colab-df-quickchart\" onclick=\"quickchart('df-ed0d9af1-9616-4bb7-9867-7340597c7ead')\"\n",
              "            title=\"Suggest charts.\"\n",
              "            style=\"display:none;\">\n",
              "\n",
              "<svg xmlns=\"http://www.w3.org/2000/svg\" height=\"24px\"viewBox=\"0 0 24 24\"\n",
              "     width=\"24px\">\n",
              "    <g>\n",
              "        <path d=\"M19 3H5c-1.1 0-2 .9-2 2v14c0 1.1.9 2 2 2h14c1.1 0 2-.9 2-2V5c0-1.1-.9-2-2-2zM9 17H7v-7h2v7zm4 0h-2V7h2v10zm4 0h-2v-4h2v4z\"/>\n",
              "    </g>\n",
              "</svg>\n",
              "  </button>\n",
              "\n",
              "<style>\n",
              "  .colab-df-quickchart {\n",
              "      --bg-color: #E8F0FE;\n",
              "      --fill-color: #1967D2;\n",
              "      --hover-bg-color: #E2EBFA;\n",
              "      --hover-fill-color: #174EA6;\n",
              "      --disabled-fill-color: #AAA;\n",
              "      --disabled-bg-color: #DDD;\n",
              "  }\n",
              "\n",
              "  [theme=dark] .colab-df-quickchart {\n",
              "      --bg-color: #3B4455;\n",
              "      --fill-color: #D2E3FC;\n",
              "      --hover-bg-color: #434B5C;\n",
              "      --hover-fill-color: #FFFFFF;\n",
              "      --disabled-bg-color: #3B4455;\n",
              "      --disabled-fill-color: #666;\n",
              "  }\n",
              "\n",
              "  .colab-df-quickchart {\n",
              "    background-color: var(--bg-color);\n",
              "    border: none;\n",
              "    border-radius: 50%;\n",
              "    cursor: pointer;\n",
              "    display: none;\n",
              "    fill: var(--fill-color);\n",
              "    height: 32px;\n",
              "    padding: 0;\n",
              "    width: 32px;\n",
              "  }\n",
              "\n",
              "  .colab-df-quickchart:hover {\n",
              "    background-color: var(--hover-bg-color);\n",
              "    box-shadow: 0 1px 2px rgba(60, 64, 67, 0.3), 0 1px 3px 1px rgba(60, 64, 67, 0.15);\n",
              "    fill: var(--button-hover-fill-color);\n",
              "  }\n",
              "\n",
              "  .colab-df-quickchart-complete:disabled,\n",
              "  .colab-df-quickchart-complete:disabled:hover {\n",
              "    background-color: var(--disabled-bg-color);\n",
              "    fill: var(--disabled-fill-color);\n",
              "    box-shadow: none;\n",
              "  }\n",
              "\n",
              "  .colab-df-spinner {\n",
              "    border: 2px solid var(--fill-color);\n",
              "    border-color: transparent;\n",
              "    border-bottom-color: var(--fill-color);\n",
              "    animation:\n",
              "      spin 1s steps(1) infinite;\n",
              "  }\n",
              "\n",
              "  @keyframes spin {\n",
              "    0% {\n",
              "      border-color: transparent;\n",
              "      border-bottom-color: var(--fill-color);\n",
              "      border-left-color: var(--fill-color);\n",
              "    }\n",
              "    20% {\n",
              "      border-color: transparent;\n",
              "      border-left-color: var(--fill-color);\n",
              "      border-top-color: var(--fill-color);\n",
              "    }\n",
              "    30% {\n",
              "      border-color: transparent;\n",
              "      border-left-color: var(--fill-color);\n",
              "      border-top-color: var(--fill-color);\n",
              "      border-right-color: var(--fill-color);\n",
              "    }\n",
              "    40% {\n",
              "      border-color: transparent;\n",
              "      border-right-color: var(--fill-color);\n",
              "      border-top-color: var(--fill-color);\n",
              "    }\n",
              "    60% {\n",
              "      border-color: transparent;\n",
              "      border-right-color: var(--fill-color);\n",
              "    }\n",
              "    80% {\n",
              "      border-color: transparent;\n",
              "      border-right-color: var(--fill-color);\n",
              "      border-bottom-color: var(--fill-color);\n",
              "    }\n",
              "    90% {\n",
              "      border-color: transparent;\n",
              "      border-bottom-color: var(--fill-color);\n",
              "    }\n",
              "  }\n",
              "</style>\n",
              "\n",
              "  <script>\n",
              "    async function quickchart(key) {\n",
              "      const quickchartButtonEl =\n",
              "        document.querySelector('#' + key + ' button');\n",
              "      quickchartButtonEl.disabled = true;  // To prevent multiple clicks.\n",
              "      quickchartButtonEl.classList.add('colab-df-spinner');\n",
              "      try {\n",
              "        const charts = await google.colab.kernel.invokeFunction(\n",
              "            'suggestCharts', [key], {});\n",
              "      } catch (error) {\n",
              "        console.error('Error during call to suggestCharts:', error);\n",
              "      }\n",
              "      quickchartButtonEl.classList.remove('colab-df-spinner');\n",
              "      quickchartButtonEl.classList.add('colab-df-quickchart-complete');\n",
              "    }\n",
              "    (() => {\n",
              "      let quickchartButtonEl =\n",
              "        document.querySelector('#df-ed0d9af1-9616-4bb7-9867-7340597c7ead button');\n",
              "      quickchartButtonEl.style.display =\n",
              "        google.colab.kernel.accessAllowed ? 'block' : 'none';\n",
              "    })();\n",
              "  </script>\n",
              "</div>\n",
              "    </div>\n",
              "  </div>\n"
            ]
          },
          "metadata": {},
          "execution_count": 6
        }
      ]
    },
    {
      "cell_type": "markdown",
      "source": [
        "### **Q1. Quantos atributos (variáveis) e quantas entradas o nosso conjunto de dados possui? Quais os tipos das variáveis?**"
      ],
      "metadata": {
        "id": "mEln8sDWlJhA"
      }
    },
    {
      "cell_type": "code",
      "source": [
        "#Volume de dados do DataFrame\n",
        "print(\"Entradas: \\t {}\".format(df.shape[0]))\n",
        "print(\"Variáveis: \\t {}\\n\".format(df.shape[1]))\n",
        "\n",
        "#Tipos de dados encontrados no DataFrame\n",
        "display(df.dtypes)"
      ],
      "metadata": {
        "colab": {
          "base_uri": "https://localhost:8080/",
          "height": 368
        },
        "id": "-KqCc1eypHLp",
        "outputId": "2f2c4de7-24f6-4ab3-b9b5-03d280d46b6c"
      },
      "execution_count": 4,
      "outputs": [
        {
          "output_type": "stream",
          "name": "stdout",
          "text": [
            "Entradas: \t 117983\n",
            "Variáveis: \t 15\n",
            "\n"
          ]
        },
        {
          "output_type": "display_data",
          "data": {
            "text/plain": [
              "ANO_VENDA                   int64\n",
              "MES_VENDA                   int64\n",
              "UF_VENDA                   object\n",
              "MUNICIPIO_VENDA            object\n",
              "PRINCIPIO_ATIVO            object\n",
              "DESCRICAO_APRESENTACAO     object\n",
              "QTD_VENDIDA                 int64\n",
              "UNIDADE_MEDIDA             object\n",
              "CONSELHO_PRESCRITOR        object\n",
              "UF_CONSELHO_PRESCRITOR     object\n",
              "TIPO_RECEITUARIO          float64\n",
              "CID10                      object\n",
              "SEXO                      float64\n",
              "IDADE                     float64\n",
              "UNIDADE_IDADE             float64\n",
              "dtype: object"
            ]
          },
          "metadata": {}
        }
      ]
    },
    {
      "cell_type": "markdown",
      "source": [
        "###Q2 Qual a porcentagem de valores ausentes no *dataset*?"
      ],
      "metadata": {
        "id": "kAMKmzZRrwC3"
      }
    },
    {
      "cell_type": "code",
      "source": [
        "(df.isnull().sum()/ df.shape[0]).sort_values(ascending=False)"
      ],
      "metadata": {
        "colab": {
          "base_uri": "https://localhost:8080/"
        },
        "id": "kS7jONKxrvBu",
        "outputId": "7559a55b-cb54-446d-b4f0-dfc9b1276e8f"
      },
      "execution_count": 6,
      "outputs": [
        {
          "output_type": "execute_result",
          "data": {
            "text/plain": [
              "CID10                     0.998635\n",
              "SEXO                      0.377851\n",
              "IDADE                     0.377851\n",
              "UNIDADE_IDADE             0.377851\n",
              "PRINCIPIO_ATIVO           0.001907\n",
              "ANO_VENDA                 0.000000\n",
              "MES_VENDA                 0.000000\n",
              "UF_VENDA                  0.000000\n",
              "MUNICIPIO_VENDA           0.000000\n",
              "DESCRICAO_APRESENTACAO    0.000000\n",
              "QTD_VENDIDA               0.000000\n",
              "UNIDADE_MEDIDA            0.000000\n",
              "CONSELHO_PRESCRITOR       0.000000\n",
              "UF_CONSELHO_PRESCRITOR    0.000000\n",
              "TIPO_RECEITUARIO          0.000000\n",
              "dtype: float64"
            ]
          },
          "metadata": {},
          "execution_count": 6
        }
      ]
    },
    {
      "cell_type": "markdown",
      "source": [
        "###  **DADOS AUSENTES**\n",
        "* É possivel observar que a coluna `CID10` possui aproximadamente 99,8% dos valores nulos\n",
        "* As variáveis `Sexo` e `Idade` possuem valores nulos em quase 40% dos casos.\n",
        "* A variável `Principio Ativo` possui quase 2% de seus valores nulos.\n",
        "* A variável `Tipo de receituario` possui menos de 1% de seus valores nulos."
      ],
      "metadata": {
        "id": "-4y6s38As9pc"
      }
    },
    {
      "cell_type": "markdown",
      "source": [
        "### **Q3. Qual o tipo de  distribuição entre as variáveis?**\n",
        "\n",
        "Para identificiar a distribuição das variáveis, vamos plotar um histograma.\n",
        "\n"
      ],
      "metadata": {
        "id": "bQV9fSpywzM6"
      }
    },
    {
      "cell_type": "code",
      "source": [
        "df.hist(bins=30,figsize=(15,10));"
      ],
      "metadata": {
        "colab": {
          "base_uri": "https://localhost:8080/",
          "height": 852
        },
        "id": "RpO0K575ueEZ",
        "outputId": "395a1de9-1453-4413-889b-a33d525f53dc"
      },
      "execution_count": 5,
      "outputs": [
        {
          "output_type": "display_data",
          "data": {
            "text/plain": [
              "<Figure size 1500x1000 with 9 Axes>"
            ],
            "image/png": "[encoded data removed]"
          },
          "metadata": {}
        }
      ]
    },
    {
      "cell_type": "markdown",
      "source": [
        "Observamos que a distribuição por gráfico não é tão boa, vamos explorar um pouco mais as informações para retirar algum feedback delas."
      ],
      "metadata": {
        "id": "D3vZqJBxR9GD"
      }
    },
    {
      "cell_type": "markdown",
      "source": [
        "## Analisando a presença de Outliers"
      ],
      "metadata": {
        "id": "VyFkLGbKze9n"
      }
    },
    {
      "cell_type": "code",
      "source": [
        "df[['QTD_VENDIDA','IDADE','UNIDADE_IDADE','MES_VENDA','ANO_VENDA','UNIDADE_IDADE', 'TIPO_RECEITUARIO']].describe()"
      ],
      "metadata": {
        "colab": {
          "base_uri": "https://localhost:8080/",
          "height": 300
        },
        "id": "ZIQsugE6zlOd",
        "outputId": "5751246e-7721-4997-f544-6db5d2a5c4b0"
      },
      "execution_count": 7,
      "outputs": [
        {
          "output_type": "execute_result",
          "data": {
            "text/plain": [
              "         QTD_VENDIDA         IDADE  UNIDADE_IDADE  MES_VENDA  ANO_VENDA  \\\n",
              "count  117983.000000  73403.000000   73403.000000   117983.0   117983.0   \n",
              "mean        3.993440     41.367819       1.015394       11.0     2021.0   \n",
              "std        32.387334     49.535057       0.123117        0.0        0.0   \n",
              "min         1.000000      0.000000       1.000000       11.0     2021.0   \n",
              "25%         1.000000     25.000000       1.000000       11.0     2021.0   \n",
              "50%         1.000000     39.000000       1.000000       11.0     2021.0   \n",
              "75%         3.000000     55.000000       1.000000       11.0     2021.0   \n",
              "max      4706.000000    999.000000       2.000000       11.0     2021.0   \n",
              "\n",
              "       UNIDADE_IDADE  TIPO_RECEITUARIO  \n",
              "count   73403.000000     117983.000000  \n",
              "mean        1.015394          3.316512  \n",
              "std         0.123117          1.856595  \n",
              "min         1.000000          1.000000  \n",
              "25%         1.000000          1.000000  \n",
              "50%         1.000000          5.000000  \n",
              "75%         1.000000          5.000000  \n",
              "max         2.000000          5.000000  "
            ],
            "text/html": [
              "\n",
              "  <div id=\"df-e424f18b-b0c7-41d5-9442-c95767a4952d\" class=\"colab-df-container\">\n",
              "    <div>\n",
              "<style scoped>\n",
              "    .dataframe tbody tr th:only-of-type {\n",
              "        vertical-align: middle;\n",
              "    }\n",
              "\n",
              "    .dataframe tbody tr th {\n",
              "        vertical-align: top;\n",
              "    }\n",
              "\n",
              "    .dataframe thead th {\n",
              "        text-align: right;\n",
              "    }\n",
              "</style>\n",
              "<table border=\"1\" class=\"dataframe\">\n",
              "  <thead>\n",
              "    <tr style=\"text-align: right;\">\n",
              "      <th></th>\n",
              "      <th>QTD_VENDIDA</th>\n",
              "      <th>IDADE</th>\n",
              "      <th>UNIDADE_IDADE</th>\n",
              "      <th>MES_VENDA</th>\n",
              "      <th>ANO_VENDA</th>\n",
              "      <th>UNIDADE_IDADE</th>\n",
              "      <th>TIPO_RECEITUARIO</th>\n",
              "    </tr>\n",
              "  </thead>\n",
              "  <tbody>\n",
              "    <tr>\n",
              "      <th>count</th>\n",
              "      <td>117983.000000</td>\n",
              "      <td>73403.000000</td>\n",
              "      <td>73403.000000</td>\n",
              "      <td>117983.0</td>\n",
              "      <td>117983.0</td>\n",
              "      <td>73403.000000</td>\n",
              "      <td>117983.000000</td>\n",
              "    </tr>\n",
              "    <tr>\n",
              "      <th>mean</th>\n",
              "      <td>3.993440</td>\n",
              "      <td>41.367819</td>\n",
              "      <td>1.015394</td>\n",
              "      <td>11.0</td>\n",
              "      <td>2021.0</td>\n",
              "      <td>1.015394</td>\n",
              "      <td>3.316512</td>\n",
              "    </tr>\n",
              "    <tr>\n",
              "      <th>std</th>\n",
              "      <td>32.387334</td>\n",
              "      <td>49.535057</td>\n",
              "      <td>0.123117</td>\n",
              "      <td>0.0</td>\n",
              "      <td>0.0</td>\n",
              "      <td>0.123117</td>\n",
              "      <td>1.856595</td>\n",
              "    </tr>\n",
              "    <tr>\n",
              "      <th>min</th>\n",
              "      <td>1.000000</td>\n",
              "      <td>0.000000</td>\n",
              "      <td>1.000000</td>\n",
              "      <td>11.0</td>\n",
              "      <td>2021.0</td>\n",
              "      <td>1.000000</td>\n",
              "      <td>1.000000</td>\n",
              "    </tr>\n",
              "    <tr>\n",
              "      <th>25%</th>\n",
              "      <td>1.000000</td>\n",
              "      <td>25.000000</td>\n",
              "      <td>1.000000</td>\n",
              "      <td>11.0</td>\n",
              "      <td>2021.0</td>\n",
              "      <td>1.000000</td>\n",
              "      <td>1.000000</td>\n",
              "    </tr>\n",
              "    <tr>\n",
              "      <th>50%</th>\n",
              "      <td>1.000000</td>\n",
              "      <td>39.000000</td>\n",
              "      <td>1.000000</td>\n",
              "      <td>11.0</td>\n",
              "      <td>2021.0</td>\n",
              "      <td>1.000000</td>\n",
              "      <td>5.000000</td>\n",
              "    </tr>\n",
              "    <tr>\n",
              "      <th>75%</th>\n",
              "      <td>3.000000</td>\n",
              "      <td>55.000000</td>\n",
              "      <td>1.000000</td>\n",
              "      <td>11.0</td>\n",
              "      <td>2021.0</td>\n",
              "      <td>1.000000</td>\n",
              "      <td>5.000000</td>\n",
              "    </tr>\n",
              "    <tr>\n",
              "      <th>max</th>\n",
              "      <td>4706.000000</td>\n",
              "      <td>999.000000</td>\n",
              "      <td>2.000000</td>\n",
              "      <td>11.0</td>\n",
              "      <td>2021.0</td>\n",
              "      <td>2.000000</td>\n",
              "      <td>5.000000</td>\n",
              "    </tr>\n",
              "  </tbody>\n",
              "</table>\n",
              "</div>\n",
              "    <div class=\"colab-df-buttons\">\n",
              "\n",
              "  <div class=\"colab-df-container\">\n",
              "    <button class=\"colab-df-convert\" onclick=\"convertToInteractive('df-e424f18b-b0c7-41d5-9442-c95767a4952d')\"\n",
              "            title=\"Convert this dataframe to an interactive table.\"\n",
              "            style=\"display:none;\">\n",
              "\n",
              "  <svg xmlns=\"http://www.w3.org/2000/svg\" height=\"24px\" viewBox=\"0 -960 960 960\">\n",
              "    <path d=\"M120-120v-720h720v720H120Zm60-500h600v-160H180v160Zm220 220h160v-160H400v160Zm0 220h160v-160H400v160ZM180-400h160v-160H180v160Zm440 0h160v-160H620v160ZM180-180h160v-160H180v160Zm440 0h160v-160H620v160Z\"/>\n",
              "  </svg>\n",
              "    </button>\n",
              "\n",
              "  <style>\n",
              "    .colab-df-container {\n",
              "      display:flex;\n",
              "      gap: 12px;\n",
              "    }\n",
              "\n",
              "    .colab-df-convert {\n",
              "      background-color: #E8F0FE;\n",
              "      border: none;\n",
              "      border-radius: 50%;\n",
              "      cursor: pointer;\n",
              "      display: none;\n",
              "      fill: #1967D2;\n",
              "      height: 32px;\n",
              "      padding: 0 0 0 0;\n",
              "      width: 32px;\n",
              "    }\n",
              "\n",
              "    .colab-df-convert:hover {\n",
              "      background-color: #E2EBFA;\n",
              "      box-shadow: 0px 1px 2px rgba(60, 64, 67, 0.3), 0px 1px 3px 1px rgba(60, 64, 67, 0.15);\n",
              "      fill: #174EA6;\n",
              "    }\n",
              "\n",
              "    .colab-df-buttons div {\n",
              "      margin-bottom: 4px;\n",
              "    }\n",
              "\n",
              "    [theme=dark] .colab-df-convert {\n",
              "      background-color: #3B4455;\n",
              "      fill: #D2E3FC;\n",
              "    }\n",
              "\n",
              "    [theme=dark] .colab-df-convert:hover {\n",
              "      background-color: #434B5C;\n",
              "      box-shadow: 0px 1px 3px 1px rgba(0, 0, 0, 0.15);\n",
              "      filter: drop-shadow(0px 1px 2px rgba(0, 0, 0, 0.3));\n",
              "      fill: #FFFFFF;\n",
              "    }\n",
              "  </style>\n",
              "\n",
              "    <script>\n",
              "      const buttonEl =\n",
              "        document.querySelector('#df-e424f18b-b0c7-41d5-9442-c95767a4952d button.colab-df-convert');\n",
              "      buttonEl.style.display =\n",
              "        google.colab.kernel.accessAllowed ? 'block' : 'none';\n",
              "\n",
              "      async function convertToInteractive(key) {\n",
              "        const element = document.querySelector('#df-e424f18b-b0c7-41d5-9442-c95767a4952d');\n",
              "        const dataTable =\n",
              "          await google.colab.kernel.invokeFunction('convertToInteractive',\n",
              "                                                    [key], {});\n",
              "        if (!dataTable) return;\n",
              "\n",
              "        const docLinkHtml = 'Like what you see? Visit the ' +\n",
              "          '<a target=\"_blank\" href=https://colab.research.google.com/notebooks/data_table.ipynb>data table notebook</a>'\n",
              "          + ' to learn more about interactive tables.';\n",
              "        element.innerHTML = '';\n",
              "        dataTable['output_type'] = 'display_data';\n",
              "        await google.colab.output.renderOutput(dataTable, element);\n",
              "        const docLink = document.createElement('div');\n",
              "        docLink.innerHTML = docLinkHtml;\n",
              "        element.appendChild(docLink);\n",
              "      }\n",
              "    </script>\n",
              "  </div>\n",
              "\n",
              "\n",
              "<div id=\"df-f9344809-e3ee-48c3-8410-42443194819c\">\n",
              "  <button class=\"colab-df-quickchart\" onclick=\"quickchart('df-f9344809-e3ee-48c3-8410-42443194819c')\"\n",
              "            title=\"Suggest charts.\"\n",
              "            style=\"display:none;\">\n",
              "\n",
              "<svg xmlns=\"http://www.w3.org/2000/svg\" height=\"24px\"viewBox=\"0 0 24 24\"\n",
              "     width=\"24px\">\n",
              "    <g>\n",
              "        <path d=\"M19 3H5c-1.1 0-2 .9-2 2v14c0 1.1.9 2 2 2h14c1.1 0 2-.9 2-2V5c0-1.1-.9-2-2-2zM9 17H7v-7h2v7zm4 0h-2V7h2v10zm4 0h-2v-4h2v4z\"/>\n",
              "    </g>\n",
              "</svg>\n",
              "  </button>\n",
              "\n",
              "<style>\n",
              "  .colab-df-quickchart {\n",
              "      --bg-color: #E8F0FE;\n",
              "      --fill-color: #1967D2;\n",
              "      --hover-bg-color: #E2EBFA;\n",
              "      --hover-fill-color: #174EA6;\n",
              "      --disabled-fill-color: #AAA;\n",
              "      --disabled-bg-color: #DDD;\n",
              "  }\n",
              "\n",
              "  [theme=dark] .colab-df-quickchart {\n",
              "      --bg-color: #3B4455;\n",
              "      --fill-color: #D2E3FC;\n",
              "      --hover-bg-color: #434B5C;\n",
              "      --hover-fill-color: #FFFFFF;\n",
              "      --disabled-bg-color: #3B4455;\n",
              "      --disabled-fill-color: #666;\n",
              "  }\n",
              "\n",
              "  .colab-df-quickchart {\n",
              "    background-color: var(--bg-color);\n",
              "    border: none;\n",
              "    border-radius: 50%;\n",
              "    cursor: pointer;\n",
              "    display: none;\n",
              "    fill: var(--fill-color);\n",
              "    height: 32px;\n",
              "    padding: 0;\n",
              "    width: 32px;\n",
              "  }\n",
              "\n",
              "  .colab-df-quickchart:hover {\n",
              "    background-color: var(--hover-bg-color);\n",
              "    box-shadow: 0 1px 2px rgba(60, 64, 67, 0.3), 0 1px 3px 1px rgba(60, 64, 67, 0.15);\n",
              "    fill: var(--button-hover-fill-color);\n",
              "  }\n",
              "\n",
              "  .colab-df-quickchart-complete:disabled,\n",
              "  .colab-df-quickchart-complete:disabled:hover {\n",
              "    background-color: var(--disabled-bg-color);\n",
              "    fill: var(--disabled-fill-color);\n",
              "    box-shadow: none;\n",
              "  }\n",
              "\n",
              "  .colab-df-spinner {\n",
              "    border: 2px solid var(--fill-color);\n",
              "    border-color: transparent;\n",
              "    border-bottom-color: var(--fill-color);\n",
              "    animation:\n",
              "      spin 1s steps(1) infinite;\n",
              "  }\n",
              "\n",
              "  @keyframes spin {\n",
              "    0% {\n",
              "      border-color: transparent;\n",
              "      border-bottom-color: var(--fill-color);\n",
              "      border-left-color: var(--fill-color);\n",
              "    }\n",
              "    20% {\n",
              "      border-color: transparent;\n",
              "      border-left-color: var(--fill-color);\n",
              "      border-top-color: var(--fill-color);\n",
              "    }\n",
              "    30% {\n",
              "      border-color: transparent;\n",
              "      border-left-color: var(--fill-color);\n",
              "      border-top-color: var(--fill-color);\n",
              "      border-right-color: var(--fill-color);\n",
              "    }\n",
              "    40% {\n",
              "      border-color: transparent;\n",
              "      border-right-color: var(--fill-color);\n",
              "      border-top-color: var(--fill-color);\n",
              "    }\n",
              "    60% {\n",
              "      border-color: transparent;\n",
              "      border-right-color: var(--fill-color);\n",
              "    }\n",
              "    80% {\n",
              "      border-color: transparent;\n",
              "      border-right-color: var(--fill-color);\n",
              "      border-bottom-color: var(--fill-color);\n",
              "    }\n",
              "    90% {\n",
              "      border-color: transparent;\n",
              "      border-bottom-color: var(--fill-color);\n",
              "    }\n",
              "  }\n",
              "</style>\n",
              "\n",
              "  <script>\n",
              "    async function quickchart(key) {\n",
              "      const quickchartButtonEl =\n",
              "        document.querySelector('#' + key + ' button');\n",
              "      quickchartButtonEl.disabled = true;  // To prevent multiple clicks.\n",
              "      quickchartButtonEl.classList.add('colab-df-spinner');\n",
              "      try {\n",
              "        const charts = await google.colab.kernel.invokeFunction(\n",
              "            'suggestCharts', [key], {});\n",
              "      } catch (error) {\n",
              "        console.error('Error during call to suggestCharts:', error);\n",
              "      }\n",
              "      quickchartButtonEl.classList.remove('colab-df-spinner');\n",
              "      quickchartButtonEl.classList.add('colab-df-quickchart-complete');\n",
              "    }\n",
              "    (() => {\n",
              "      let quickchartButtonEl =\n",
              "        document.querySelector('#df-f9344809-e3ee-48c3-8410-42443194819c button');\n",
              "      quickchartButtonEl.style.display =\n",
              "        google.colab.kernel.accessAllowed ? 'block' : 'none';\n",
              "    })();\n",
              "  </script>\n",
              "</div>\n",
              "    </div>\n",
              "  </div>\n"
            ]
          },
          "metadata": {},
          "execution_count": 7
        }
      ]
    },
    {
      "cell_type": "markdown",
      "source": [
        "## Analisando a presença de Outliers\n",
        "Olhando o resumo estatístico acima, podemos confirmar algumas hipóteses como:\n",
        "\n",
        "* Observamos que a variável `QT_VENDIDA` possui 75% dos valores abaixo de 3, porém o seu valor máximo é 4825.\n",
        "* Vemos que a Idade tem valor máximo de 999 anos.\n",
        "* Notamos que a maioria dos receituários estão na categoria 5\n",
        "\n",
        "\n",
        "#### Boxplot para a idade"
      ],
      "metadata": {
        "id": "r6ObyBHV1t35"
      }
    },
    {
      "cell_type": "code",
      "source": [
        "df.IDADE.plot(kind='box',vert=False, figsize=(15, 3))\n",
        "plt.show()\n",
        "\n",
        "# Quantidade de valores acima de 100 para Idade\n",
        "print(\"Idade: valores acima de 100\")\n",
        "print(\"{} entradas\".format(len(df[df.IDADE > 100])))\n",
        "print(\"{:.4f}%\".format((len(df[df.IDADE > 100])/ df.shape[0]*100)))"
      ],
      "metadata": {
        "colab": {
          "base_uri": "https://localhost:8080/",
          "height": 346
        },
        "id": "YFqWSVawSbl1",
        "outputId": "7ed9ca4b-7f62-4f00-e913-348ad18d36a7"
      },
      "execution_count": 8,
      "outputs": [
        {
          "output_type": "display_data",
          "data": {
            "text/plain": [
              "<Figure size 1500x300 with 1 Axes>"
            ],
            "image/png": "[encoded data removed]"
          },
          "metadata": {}
        },
        {
          "output_type": "stream",
          "name": "stdout",
          "text": [
            "Idade: valores acima de 100\n",
            "267 entradas\n",
            "0.2263%\n"
          ]
        }
      ]
    },
    {
      "cell_type": "markdown",
      "source": [
        "#### Boxplot para QNT_VENDIDA\n"
      ],
      "metadata": {
        "id": "BGQYDcQ6Wo3M"
      }
    },
    {
      "cell_type": "code",
      "source": [
        "# Quantidade Vendida\n",
        "df.QTD_VENDIDA.plot(kind='box', vert=False, figsize=(15, 3),)\n",
        "plt.show()\n",
        "\n",
        "# ver quantidade de valores acima de 10\n",
        "print(\"\\nquantidade vendida: valores acima de 10\")\n",
        "print(\"{} entradas\".format(len(df[df.QTD_VENDIDA > 10])))\n",
        "print(\"{:.4f}%\".format((len(df[df.QTD_VENDIDA > 10]) / df.shape[0])*100))\n"
      ],
      "metadata": {
        "colab": {
          "base_uri": "https://localhost:8080/",
          "height": 365
        },
        "id": "lzKAfmC4WoPi",
        "outputId": "e4f4a8d4-196d-46d9-9e2e-2ae92c1ceb33"
      },
      "execution_count": 9,
      "outputs": [
        {
          "output_type": "display_data",
          "data": {
            "text/plain": [
              "<Figure size 1500x300 with 1 Axes>"
            ],
            "image/png": "[encoded data removed]"
          },
          "metadata": {}
        },
        {
          "output_type": "stream",
          "name": "stdout",
          "text": [
            "\n",
            "quantidade vendida: valores acima de 10\n",
            "5133 entradas\n",
            "4.3506%\n"
          ]
        }
      ]
    },
    {
      "cell_type": "markdown",
      "source": [
        "#### Histogramas sem *outliers*\n",
        "\n",
        "Já que identificamos *outliers* nas variáveis `IDADE` e `QTD_VENDIDA`, vamos agora limpar o *DataFrame* delas e plotar novamente o histograma."
      ],
      "metadata": {
        "id": "kBxUvGcbbIPM"
      }
    },
    {
      "cell_type": "code",
      "source": [
        "df_clean = df.copy()\n",
        "df_clean.drop(df_clean[df_clean.IDADE > 100].index, axis=0, inplace=True)\n",
        "df_clean.drop(df_clean[df_clean.QTD_VENDIDA > 10].index, axis=0, inplace=True)\n",
        "\n",
        "# remover `CID10`, pois está majoritariamente vazio\n",
        "df_clean.drop('CID10', axis=1, inplace=True)\n",
        "\n",
        "# plotar o histograma para as variáveis numéricas\n",
        "df_clean.hist(bins=10, figsize=(15,10));\n"
      ],
      "metadata": {
        "colab": {
          "base_uri": "https://localhost:8080/",
          "height": 852
        },
        "id": "15yiU8wcbYWu",
        "outputId": "d8841385-8677-4365-af66-f2260ffca83d"
      },
      "execution_count": 10,
      "outputs": [
        {
          "output_type": "display_data",
          "data": {
            "text/plain": [
              "<Figure size 1500x1000 with 9 Axes>"
            ],
            "image/png": "[encoded data removed]"
          },
          "metadata": {}
        }
      ]
    },
    {
      "cell_type": "markdown",
      "source": [
        "Podemos notar que agora temos uma distribuição de idade mais real."
      ],
      "metadata": {
        "id": "1DKNSTPHcMaO"
      }
    },
    {
      "cell_type": "markdown",
      "source": [
        "### **Q4. Qual a correlação existente entre as variáveis**\n",
        "\n",
        "Correlação significa que existe uma relação entre duas coisas. No nosso contexto, estamos buscando relação ou semelhança entre duas variáveis.\n",
        "\n",
        "Essa relação pode ser medida, e é função do coeficiente de correlação estabelecer qual a intensidade dela. Para identificar as correlações existentes entre as variáveis de interesse, vou:\n",
        "\n",
        "* Criar uma matriz de correlação\n",
        "* Gerar um *heatmap* a partir dessa matriz"
      ],
      "metadata": {
        "id": "nJoTom0Ia8EA"
      }
    },
    {
      "cell_type": "code",
      "source": [
        "# criar uma matriz de correlação\n",
        "corr = df_clean[['QTD_VENDIDA', 'IDADE', 'TIPO_RECEITUARIO', 'UNIDADE_MEDIDA', 'SEXO']].corr()\n",
        "\n",
        "display(corr)"
      ],
      "metadata": {
        "colab": {
          "base_uri": "https://localhost:8080/",
          "height": 232
        },
        "id": "p8ADm6rSa-RT",
        "outputId": "404cf112-d4c6-4d3c-91ef-112a035f0560"
      },
      "execution_count": 11,
      "outputs": [
        {
          "output_type": "stream",
          "name": "stderr",
          "text": [
            "<ipython-input-11-9482d5ebf5a6>:2: FutureWarning: The default value of numeric_only in DataFrame.corr is deprecated. In a future version, it will default to False. Select only valid columns or specify the value of numeric_only to silence this warning.\n",
            "  corr = df_clean[['QTD_VENDIDA', 'IDADE', 'TIPO_RECEITUARIO', 'UNIDADE_MEDIDA', 'SEXO']].corr()\n"
          ]
        },
        {
          "output_type": "display_data",
          "data": {
            "text/plain": [
              "                  QTD_VENDIDA     IDADE  TIPO_RECEITUARIO      SEXO\n",
              "QTD_VENDIDA          1.000000  0.005715         -0.304806  0.001861\n",
              "IDADE                0.005715  1.000000         -0.050483  0.024158\n",
              "TIPO_RECEITUARIO    -0.304806 -0.050483          1.000000 -0.067554\n",
              "SEXO                 0.001861  0.024158         -0.067554  1.000000"
            ],
            "text/html": [
              "\n",
              "  <div id=\"df-94c7dc79-adb1-46f9-adc5-53b0642670bb\" class=\"colab-df-container\">\n",
              "    <div>\n",
              "<style scoped>\n",
              "    .dataframe tbody tr th:only-of-type {\n",
              "        vertical-align: middle;\n",
              "    }\n",
              "\n",
              "    .dataframe tbody tr th {\n",
              "        vertical-align: top;\n",
              "    }\n",
              "\n",
              "    .dataframe thead th {\n",
              "        text-align: right;\n",
              "    }\n",
              "</style>\n",
              "<table border=\"1\" class=\"dataframe\">\n",
              "  <thead>\n",
              "    <tr style=\"text-align: right;\">\n",
              "      <th></th>\n",
              "      <th>QTD_VENDIDA</th>\n",
              "      <th>IDADE</th>\n",
              "      <th>TIPO_RECEITUARIO</th>\n",
              "      <th>SEXO</th>\n",
              "    </tr>\n",
              "  </thead>\n",
              "  <tbody>\n",
              "    <tr>\n",
              "      <th>QTD_VENDIDA</th>\n",
              "      <td>1.000000</td>\n",
              "      <td>0.005715</td>\n",
              "      <td>-0.304806</td>\n",
              "      <td>0.001861</td>\n",
              "    </tr>\n",
              "    <tr>\n",
              "      <th>IDADE</th>\n",
              "      <td>0.005715</td>\n",
              "      <td>1.000000</td>\n",
              "      <td>-0.050483</td>\n",
              "      <td>0.024158</td>\n",
              "    </tr>\n",
              "    <tr>\n",
              "      <th>TIPO_RECEITUARIO</th>\n",
              "      <td>-0.304806</td>\n",
              "      <td>-0.050483</td>\n",
              "      <td>1.000000</td>\n",
              "      <td>-0.067554</td>\n",
              "    </tr>\n",
              "    <tr>\n",
              "      <th>SEXO</th>\n",
              "      <td>0.001861</td>\n",
              "      <td>0.024158</td>\n",
              "      <td>-0.067554</td>\n",
              "      <td>1.000000</td>\n",
              "    </tr>\n",
              "  </tbody>\n",
              "</table>\n",
              "</div>\n",
              "    <div class=\"colab-df-buttons\">\n",
              "\n",
              "  <div class=\"colab-df-container\">\n",
              "    <button class=\"colab-df-convert\" onclick=\"convertToInteractive('df-94c7dc79-adb1-46f9-adc5-53b0642670bb')\"\n",
              "            title=\"Convert this dataframe to an interactive table.\"\n",
              "            style=\"display:none;\">\n",
              "\n",
              "  <svg xmlns=\"http://www.w3.org/2000/svg\" height=\"24px\" viewBox=\"0 -960 960 960\">\n",
              "    <path d=\"M120-120v-720h720v720H120Zm60-500h600v-160H180v160Zm220 220h160v-160H400v160Zm0 220h160v-160H400v160ZM180-400h160v-160H180v160Zm440 0h160v-160H620v160ZM180-180h160v-160H180v160Zm440 0h160v-160H620v160Z\"/>\n",
              "  </svg>\n",
              "    </button>\n",
              "\n",
              "  <style>\n",
              "    .colab-df-container {\n",
              "      display:flex;\n",
              "      gap: 12px;\n",
              "    }\n",
              "\n",
              "    .colab-df-convert {\n",
              "      background-color: #E8F0FE;\n",
              "      border: none;\n",
              "      border-radius: 50%;\n",
              "      cursor: pointer;\n",
              "      display: none;\n",
              "      fill: #1967D2;\n",
              "      height: 32px;\n",
              "      padding: 0 0 0 0;\n",
              "      width: 32px;\n",
              "    }\n",
              "\n",
              "    .colab-df-convert:hover {\n",
              "      background-color: #E2EBFA;\n",
              "      box-shadow: 0px 1px 2px rgba(60, 64, 67, 0.3), 0px 1px 3px 1px rgba(60, 64, 67, 0.15);\n",
              "      fill: #174EA6;\n",
              "    }\n",
              "\n",
              "    .colab-df-buttons div {\n",
              "      margin-bottom: 4px;\n",
              "    }\n",
              "\n",
              "    [theme=dark] .colab-df-convert {\n",
              "      background-color: #3B4455;\n",
              "      fill: #D2E3FC;\n",
              "    }\n",
              "\n",
              "    [theme=dark] .colab-df-convert:hover {\n",
              "      background-color: #434B5C;\n",
              "      box-shadow: 0px 1px 3px 1px rgba(0, 0, 0, 0.15);\n",
              "      filter: drop-shadow(0px 1px 2px rgba(0, 0, 0, 0.3));\n",
              "      fill: #FFFFFF;\n",
              "    }\n",
              "  </style>\n",
              "\n",
              "    <script>\n",
              "      const buttonEl =\n",
              "        document.querySelector('#df-94c7dc79-adb1-46f9-adc5-53b0642670bb button.colab-df-convert');\n",
              "      buttonEl.style.display =\n",
              "        google.colab.kernel.accessAllowed ? 'block' : 'none';\n",
              "\n",
              "      async function convertToInteractive(key) {\n",
              "        const element = document.querySelector('#df-94c7dc79-adb1-46f9-adc5-53b0642670bb');\n",
              "        const dataTable =\n",
              "          await google.colab.kernel.invokeFunction('convertToInteractive',\n",
              "                                                    [key], {});\n",
              "        if (!dataTable) return;\n",
              "\n",
              "        const docLinkHtml = 'Like what you see? Visit the ' +\n",
              "          '<a target=\"_blank\" href=https://colab.research.google.com/notebooks/data_table.ipynb>data table notebook</a>'\n",
              "          + ' to learn more about interactive tables.';\n",
              "        element.innerHTML = '';\n",
              "        dataTable['output_type'] = 'display_data';\n",
              "        await google.colab.output.renderOutput(dataTable, element);\n",
              "        const docLink = document.createElement('div');\n",
              "        docLink.innerHTML = docLinkHtml;\n",
              "        element.appendChild(docLink);\n",
              "      }\n",
              "    </script>\n",
              "  </div>\n",
              "\n",
              "\n",
              "<div id=\"df-272392c4-8bb7-4751-a84f-ebbf76f398ca\">\n",
              "  <button class=\"colab-df-quickchart\" onclick=\"quickchart('df-272392c4-8bb7-4751-a84f-ebbf76f398ca')\"\n",
              "            title=\"Suggest charts.\"\n",
              "            style=\"display:none;\">\n",
              "\n",
              "<svg xmlns=\"http://www.w3.org/2000/svg\" height=\"24px\"viewBox=\"0 0 24 24\"\n",
              "     width=\"24px\">\n",
              "    <g>\n",
              "        <path d=\"M19 3H5c-1.1 0-2 .9-2 2v14c0 1.1.9 2 2 2h14c1.1 0 2-.9 2-2V5c0-1.1-.9-2-2-2zM9 17H7v-7h2v7zm4 0h-2V7h2v10zm4 0h-2v-4h2v4z\"/>\n",
              "    </g>\n",
              "</svg>\n",
              "  </button>\n",
              "\n",
              "<style>\n",
              "  .colab-df-quickchart {\n",
              "      --bg-color: #E8F0FE;\n",
              "      --fill-color: #1967D2;\n",
              "      --hover-bg-color: #E2EBFA;\n",
              "      --hover-fill-color: #174EA6;\n",
              "      --disabled-fill-color: #AAA;\n",
              "      --disabled-bg-color: #DDD;\n",
              "  }\n",
              "\n",
              "  [theme=dark] .colab-df-quickchart {\n",
              "      --bg-color: #3B4455;\n",
              "      --fill-color: #D2E3FC;\n",
              "      --hover-bg-color: #434B5C;\n",
              "      --hover-fill-color: #FFFFFF;\n",
              "      --disabled-bg-color: #3B4455;\n",
              "      --disabled-fill-color: #666;\n",
              "  }\n",
              "\n",
              "  .colab-df-quickchart {\n",
              "    background-color: var(--bg-color);\n",
              "    border: none;\n",
              "    border-radius: 50%;\n",
              "    cursor: pointer;\n",
              "    display: none;\n",
              "    fill: var(--fill-color);\n",
              "    height: 32px;\n",
              "    padding: 0;\n",
              "    width: 32px;\n",
              "  }\n",
              "\n",
              "  .colab-df-quickchart:hover {\n",
              "    background-color: var(--hover-bg-color);\n",
              "    box-shadow: 0 1px 2px rgba(60, 64, 67, 0.3), 0 1px 3px 1px rgba(60, 64, 67, 0.15);\n",
              "    fill: var(--button-hover-fill-color);\n",
              "  }\n",
              "\n",
              "  .colab-df-quickchart-complete:disabled,\n",
              "  .colab-df-quickchart-complete:disabled:hover {\n",
              "    background-color: var(--disabled-bg-color);\n",
              "    fill: var(--disabled-fill-color);\n",
              "    box-shadow: none;\n",
              "  }\n",
              "\n",
              "  .colab-df-spinner {\n",
              "    border: 2px solid var(--fill-color);\n",
              "    border-color: transparent;\n",
              "    border-bottom-color: var(--fill-color);\n",
              "    animation:\n",
              "      spin 1s steps(1) infinite;\n",
              "  }\n",
              "\n",
              "  @keyframes spin {\n",
              "    0% {\n",
              "      border-color: transparent;\n",
              "      border-bottom-color: var(--fill-color);\n",
              "      border-left-color: var(--fill-color);\n",
              "    }\n",
              "    20% {\n",
              "      border-color: transparent;\n",
              "      border-left-color: var(--fill-color);\n",
              "      border-top-color: var(--fill-color);\n",
              "    }\n",
              "    30% {\n",
              "      border-color: transparent;\n",
              "      border-left-color: var(--fill-color);\n",
              "      border-top-color: var(--fill-color);\n",
              "      border-right-color: var(--fill-color);\n",
              "    }\n",
              "    40% {\n",
              "      border-color: transparent;\n",
              "      border-right-color: var(--fill-color);\n",
              "      border-top-color: var(--fill-color);\n",
              "    }\n",
              "    60% {\n",
              "      border-color: transparent;\n",
              "      border-right-color: var(--fill-color);\n",
              "    }\n",
              "    80% {\n",
              "      border-color: transparent;\n",
              "      border-right-color: var(--fill-color);\n",
              "      border-bottom-color: var(--fill-color);\n",
              "    }\n",
              "    90% {\n",
              "      border-color: transparent;\n",
              "      border-bottom-color: var(--fill-color);\n",
              "    }\n",
              "  }\n",
              "</style>\n",
              "\n",
              "  <script>\n",
              "    async function quickchart(key) {\n",
              "      const quickchartButtonEl =\n",
              "        document.querySelector('#' + key + ' button');\n",
              "      quickchartButtonEl.disabled = true;  // To prevent multiple clicks.\n",
              "      quickchartButtonEl.classList.add('colab-df-spinner');\n",
              "      try {\n",
              "        const charts = await google.colab.kernel.invokeFunction(\n",
              "            'suggestCharts', [key], {});\n",
              "      } catch (error) {\n",
              "        console.error('Error during call to suggestCharts:', error);\n",
              "      }\n",
              "      quickchartButtonEl.classList.remove('colab-df-spinner');\n",
              "      quickchartButtonEl.classList.add('colab-df-quickchart-complete');\n",
              "    }\n",
              "    (() => {\n",
              "      let quickchartButtonEl =\n",
              "        document.querySelector('#df-272392c4-8bb7-4751-a84f-ebbf76f398ca button');\n",
              "      quickchartButtonEl.style.display =\n",
              "        google.colab.kernel.accessAllowed ? 'block' : 'none';\n",
              "    })();\n",
              "  </script>\n",
              "</div>\n",
              "    </div>\n",
              "  </div>\n"
            ]
          },
          "metadata": {}
        }
      ]
    },
    {
      "cell_type": "markdown",
      "source": [
        "\n",
        "\n",
        "*   Observamos inicialmente que não existe uma relação entre a idade e a quantidade de vendas, bem como entre o sexo da pessoa e o tipo de receituario.\n",
        "\n"
      ],
      "metadata": {
        "id": "amosF8OrmQUR"
      }
    },
    {
      "cell_type": "code",
      "source": [
        "sns.heatmap(corr, cmap='RdBu', fmt='.2f', square=True, linecolor='white', annot=True);"
      ],
      "metadata": {
        "colab": {
          "base_uri": "https://localhost:8080/",
          "height": 435
        },
        "id": "z60W2S2Lg552",
        "outputId": "8582ad79-8362-4f27-9207-1bcf786a5b31"
      },
      "execution_count": 12,
      "outputs": [
        {
          "output_type": "display_data",
          "data": {
            "text/plain": [
              "<Figure size 640x480 with 2 Axes>"
            ],
            "image/png": "[encoded data removed]"
          },
          "metadata": {}
        }
      ]
    },
    {
      "cell_type": "markdown",
      "source": [
        "### **Q5. Quais são as UFs que mais vendem**"
      ],
      "metadata": {
        "id": "rwrEq7dEl7w3"
      }
    },
    {
      "cell_type": "markdown",
      "source": [
        "Podemos observar que o estados que apresentam um maior número de vendas estão concentrados na região Sudeste."
      ],
      "metadata": {
        "id": "kx9q8htFjUZF"
      }
    },
    {
      "cell_type": "code",
      "source": [
        "df_clean.UF_VENDA.value_counts()"
      ],
      "metadata": {
        "colab": {
          "base_uri": "https://localhost:8080/"
        },
        "id": "9KwnAxIBikjd",
        "outputId": "e8eb699c-1e95-4e58-d095-09da08c8b8c0"
      },
      "execution_count": 13,
      "outputs": [
        {
          "output_type": "execute_result",
          "data": {
            "text/plain": [
              "RJ    32119\n",
              "SP    22461\n",
              "SC    10085\n",
              "MG     9730\n",
              "PB     9661\n",
              "ES     9110\n",
              "MT     6622\n",
              "PE     4350\n",
              "CE     3978\n",
              "MS     1623\n",
              "PA     1430\n",
              "TO      776\n",
              "PR      572\n",
              "BA       76\n",
              "Name: UF_VENDA, dtype: int64"
            ]
          },
          "metadata": {},
          "execution_count": 13
        }
      ]
    },
    {
      "cell_type": "markdown",
      "source": [
        "Onde **Rio de Janeiro** e **São Paulo**, juntos concetram cerca de **51% das vendas**"
      ],
      "metadata": {
        "id": "vLNKpubzlUgi"
      }
    },
    {
      "cell_type": "code",
      "source": [
        "(df_clean.UF_VENDA.value_counts()/df_clean.shape[0])*100"
      ],
      "metadata": {
        "colab": {
          "base_uri": "https://localhost:8080/"
        },
        "id": "BMkut0xijt8F",
        "outputId": "14f394bc-f5f0-421f-cf91-ee3ab1e49204"
      },
      "execution_count": 14,
      "outputs": [
        {
          "output_type": "execute_result",
          "data": {
            "text/plain": [
              "RJ    28.526640\n",
              "SP    19.948842\n",
              "SC     8.957040\n",
              "MG     8.641745\n",
              "PB     8.580462\n",
              "ES     8.091089\n",
              "MT     5.881360\n",
              "PE     3.863473\n",
              "CE     3.533079\n",
              "MS     1.441475\n",
              "PA     1.270061\n",
              "TO     0.689208\n",
              "PR     0.508024\n",
              "BA     0.067500\n",
              "Name: UF_VENDA, dtype: float64"
            ]
          },
          "metadata": {},
          "execution_count": 14
        }
      ]
    },
    {
      "cell_type": "markdown",
      "source": [
        "### **Q6.  Medicamentos mais populares**\n",
        "\n",
        "*  Por `princípio ativo`\n",
        "\n"
      ],
      "metadata": {
        "id": "YfGnIQtOZHTE"
      }
    },
    {
      "cell_type": "code",
      "source": [
        "df_clean['PRINCIPIO_ATIVO'].value_counts()"
      ],
      "metadata": {
        "colab": {
          "base_uri": "https://localhost:8080/"
        },
        "id": "lobTEJmtsVIL",
        "outputId": "a3591487-7b73-4c7e-cb13-4486451ee7e2"
      },
      "execution_count": 15,
      "outputs": [
        {
          "output_type": "execute_result",
          "data": {
            "text/plain": [
              "AZITROMICINA DI-HIDRATADA                                6370\n",
              "AMOXICILINA TRI-HIDRATADA                                4456\n",
              "AMOXICILINA TRI-HIDRATADA + CLAVULANATO DE POTÁSSIO      4109\n",
              "OXALATO DE ESCITALOPRAM                                  2906\n",
              "AMOXICILINA + CLAVULANATO DE POTÁSSIO                    2855\n",
              "                                                         ... \n",
              "DICLORIDRATO DE LEVOCETIRIZINA                              1\n",
              "BENZILPENICILINA BENZATINA                                  1\n",
              "BROMIDRATO DE GALANTAMINA + BROMIDRATO DE GALANTAMINA       1\n",
              "CLORIDRATO DE PIOGLITAZONA                                  1\n",
              "TETRACICLINA                                                1\n",
              "Name: PRINCIPIO_ATIVO, Length: 319, dtype: int64"
            ]
          },
          "metadata": {},
          "execution_count": 15
        }
      ]
    },
    {
      "cell_type": "markdown",
      "source": [
        "\n",
        "\n",
        "*   Por `descrição`\n",
        "\n"
      ],
      "metadata": {
        "id": "cS1DPbKuaMVS"
      }
    },
    {
      "cell_type": "code",
      "source": [
        "df_clean['DESCRICAO_APRESENTACAO'].value_counts()"
      ],
      "metadata": {
        "id": "ynyMQDwAtkK7",
        "colab": {
          "base_uri": "https://localhost:8080/"
        },
        "outputId": "ad2630d7-581f-4ead-cc44-926d219e590f"
      },
      "execution_count": 16,
      "outputs": [
        {
          "output_type": "execute_result",
          "data": {
            "text/plain": [
              "500 MG CAP DURA CT BL AL PLAS TRANS X 21                  3336\n",
              "500 MG COM REV CT BL AL PLAS TRANS X 14                   2284\n",
              "500 MG COM REV CT BL AL PLAS PVC TRANS X 5                1168\n",
              "875 MG + 125 MG COM REV CT FR VD AMB X 14                 1162\n",
              "500 MG COM CT BL AL PLAS TRANS X 10                       1145\n",
              "                                                          ... \n",
              "10 MG COM CT BL AL PLAS OPC X 30                             1\n",
              "7,5 MG/G GEL CT BG AL X 30 G                                 1\n",
              "1,0MG+2,5MG+0,25MG+100 000 UI POM DERM CT BG AL X 30 G       1\n",
              "35 MG COM REV CT BL AL PLAS OPC X 4                          1\n",
              "0,6 U/G + 0,01 G POM DERM CT BG AL X 50 G + ESP              1\n",
              "Name: DESCRICAO_APRESENTACAO, Length: 1959, dtype: int64"
            ]
          },
          "metadata": {},
          "execution_count": 16
        }
      ]
    },
    {
      "cell_type": "markdown",
      "source": [
        "### **Q7. Medicamentos mais vendidos por localidade**"
      ],
      "metadata": {
        "id": "y7NGavdfeMZL"
      }
    },
    {
      "cell_type": "code",
      "source": [
        "df_clean.groupby(['UF_VENDA']).DESCRICAO_APRESENTACAO.value_counts().sort_values(ascending=False)"
      ],
      "metadata": {
        "colab": {
          "base_uri": "https://localhost:8080/"
        },
        "id": "HAZ4ZQwDcwnQ",
        "outputId": "48a1ac00-5f90-49cf-e753-681852143d40"
      },
      "execution_count": 19,
      "outputs": [
        {
          "output_type": "execute_result",
          "data": {
            "text/plain": [
              "UF_VENDA  DESCRICAO_APRESENTACAO                                                           \n",
              "SP        500 MG CAP DURA CT BL AL PLAS TRANS X 21                                             967\n",
              "RJ        500 MG CAP DURA CT BL AL PLAS TRANS X 21                                             819\n",
              "SP        500 MG COM REV CT BL AL PLAS TRANS X 14                                              653\n",
              "SC        500 MG CAP DURA CT BL AL PLAS TRANS X 21                                             409\n",
              "RJ        500 MG COM REV CT BL AL PLAS TRANS X 14                                              401\n",
              "                                                                                              ... \n",
              "MG        0,250 MG/ML + 10.000 UI/ML + 3,500 MG/ML + 20 MG/ML SOL CT FR GOT PLAS OPC X 5 ML      1\n",
              "          (250 MG + 62,5 MG)/5ML PO SUS OR CT FR VD AMB X 75 ML                                  1\n",
              "          (10,0 + 20,0) MG COM REV CT BL AL PLAS PVC/PVDC TRANS X 30                             1\n",
              "          (1 MG + 5 MG + 6.000 UI)/G POM OFT CT BG AL X 3,5 G                                    1\n",
              "TO        SUSP OTO CT FR PLAS OPC GOT X 10 ML                                                    1\n",
              "Name: DESCRICAO_APRESENTACAO, Length: 11880, dtype: int64"
            ]
          },
          "metadata": {},
          "execution_count": 19
        }
      ]
    },
    {
      "cell_type": "code",
      "source": [
        "tabela_serie = df_clean.UF_VENDA.value_counts()\n",
        "indices = tabela_serie.index.tolist()\n",
        "valores = tabela_serie.tolist()\n",
        "plt.figure(figsize=(10,6))\n",
        "plt.bar(indices,valores, color='skyblue')\n",
        "plt.xlabel('Estados')\n",
        "plt.ylabel('Vendas')\n",
        "plt.title('Vendas do Produto por Estado')\n",
        "plt.show()\n"
      ],
      "metadata": {
        "colab": {
          "base_uri": "https://localhost:8080/",
          "height": 564
        },
        "id": "12_cxPqwpkjt",
        "outputId": "c82c07c3-8bcb-4abd-e41e-9ce809674b20"
      },
      "execution_count": 45,
      "outputs": [
        {
          "output_type": "display_data",
          "data": {
            "text/plain": [
              "<Figure size 1000x600 with 1 Axes>"
            ],
            "image/png": "[encoded data removed]"
          },
          "metadata": {}
        }
      ]
    },
    {
      "cell_type": "code",
      "source": [
        "df_clean.SEXO = df_clean.SEXO.replace({1: 'A', 2: 'B'})\n",
        "tabela_serie = df_clean.SEXO.value_counts()\n",
        "indices = tabela_serie.index.tolist()\n",
        "valores = tabela_serie.tolist()\n",
        "plt.figure(figsize=(10,6))\n",
        "plt.bar(indices,valores, color='skyblue')\n",
        "plt.xlabel('Sexo')\n",
        "plt.ylabel('Quantidade')\n",
        "plt.title('Distribuição por idade')\n",
        "plt.show()"
      ],
      "metadata": {
        "colab": {
          "base_uri": "https://localhost:8080/",
          "height": 564
        },
        "id": "rUfD83r2sSVl",
        "outputId": "c5c3f1c7-ac0a-4da9-ede2-f5fd94bebc0b"
      },
      "execution_count": 49,
      "outputs": [
        {
          "output_type": "display_data",
          "data": {
            "text/plain": [
              "<Figure size 1000x600 with 1 Axes>"
            ],
            "image/png": "[encoded data removed]"
          },
          "metadata": {}
        }
      ]
    }
  ]
}